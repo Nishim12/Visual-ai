{
 "cells": [
  {
   "cell_type": "code",
   "execution_count": 15,
   "metadata": {},
   "outputs": [
    {
     "name": "stdout",
     "output_type": "stream",
     "text": [
      "Dataset 'hackaton1' already exists. Deleting...\n",
      "Importing dataset from images in D:\\Genta\\ML_practice\\voxel\\Visual-ai\\images and annotations in D:\\Genta\\ML_practice\\voxel\\Visual-ai\\annotations\n",
      " 100% |█████████████████| 665/665 [1.5s elapsed, 0s remaining, 435.0 samples/s]         \n",
      "Imported 665 samples\n",
      "Dataset stats: {'samples_count': 665, 'samples_bytes': 619242, 'samples_size': '604.7KB', 'total_bytes': 619242, 'total_size': '604.7KB'}\n",
      "\n",
      "Sample file paths:\n",
      " - D:\\Genta\\ML_practice\\voxel\\Visual-ai\\images\\potholes313.png\n",
      " - D:\\Genta\\ML_practice\\voxel\\Visual-ai\\images\\potholes545.png\n",
      " - D:\\Genta\\ML_practice\\voxel\\Visual-ai\\images\\potholes572.png\n"
     ]
    },
    {
     "data": {
      "text/html": [
       "\n",
       "        <iframe\n",
       "            width=\"100%\"\n",
       "            height=\"800\"\n",
       "            src=\"http://localhost:5151/?notebook=True&subscription=fb9d07fd-c523-4f31-9877-7e614929e364\"\n",
       "            frameborder=\"0\"\n",
       "            allowfullscreen\n",
       "            \n",
       "        ></iframe>\n",
       "        "
      ],
      "text/plain": [
       "<IPython.lib.display.IFrame at 0x217a868d210>"
      ]
     },
     "metadata": {},
     "output_type": "display_data"
    }
   ],
   "source": [
    "import fiftyone as fo\n",
    "import os\n",
    "from pathlib import Path\n",
    "\n",
    "# Define paths\n",
    "name = \"hackaton1\"\n",
    "data_path = r\"D:\\Genta\\ML_practice\\voxel\\Visual-ai\\images\"\n",
    "labels_path = r\"D:\\Genta\\ML_practice\\voxel\\Visual-ai\\annotations\"\n",
    "\n",
    "# Check if the dataset already exists and delete it if necessary\n",
    "if fo.dataset_exists(name):\n",
    "    print(f\"Dataset '{name}' already exists. Deleting...\")\n",
    "    fo.delete_dataset(name)\n",
    "\n",
    "# Verify directories exist\n",
    "if not os.path.exists(data_path):\n",
    "    raise FileNotFoundError(f\"Images directory not found: {data_path}\")\n",
    "\n",
    "if not os.path.exists(labels_path):\n",
    "    raise FileNotFoundError(f\"Annotations directory not found: {labels_path}\")\n",
    "\n",
    "print(f\"Importing dataset from images in {data_path} and annotations in {labels_path}\")\n",
    "\n",
    "# Import dataset by explicitly providing paths to the source media and labels\n",
    "dataset = fo.Dataset.from_dir(\n",
    "    dataset_type=fo.types.VOCDetectionDataset,\n",
    "    data_path=data_path,\n",
    "    labels_path=labels_path,\n",
    "    name=name,\n",
    ")\n",
    "\n",
    "# Print dataset summary\n",
    "print(f\"Imported {len(dataset)} samples\")\n",
    "print(f\"Dataset stats: {dataset.stats()}\")\n",
    "\n",
    "# View sample paths to ensure they're correct\n",
    "print(\"\\nSample file paths:\")\n",
    "for sample in list(dataset.take(3)):\n",
    "    print(f\" - {sample.filepath}\")\n",
    "    if hasattr(sample, \"detections\") and sample.detections is not None:\n",
    "        print(f\"   Has {len(sample.detections.detections)} detections\")\n",
    "\n",
    "# Set some default options for visualization\n",
    "dataset.persistent = True\n",
    "if dataset.has_field(\"detections\"):\n",
    "    dataset.default_skeleton = \"detections\"\n",
    "    # Set a nice color for pothole detections\n",
    "    dataset.default_classes = [\"pothole\"]\n",
    "    dataset.default_detection_colors = {\n",
    "        \"pothole\": (255, 0, 0)  # Red color\n",
    "    }\n",
    "dataset.save()\n",
    "\n",
    "# Launch the app\n",
    "session = fo.launch_app(dataset)"
   ]
  },
  {
   "cell_type": "code",
   "execution_count": null,
   "metadata": {},
   "outputs": [],
   "source": [
    "import torch\n",
    "torch.manual_seed(42)"
   ]
  }
 ],
 "metadata": {
  "kernelspec": {
   "display_name": "Python 3",
   "language": "python",
   "name": "python3"
  },
  "language_info": {
   "codemirror_mode": {
    "name": "ipython",
    "version": 3
   },
   "file_extension": ".py",
   "mimetype": "text/x-python",
   "name": "python",
   "nbconvert_exporter": "python",
   "pygments_lexer": "ipython3",
   "version": "3.10.11"
  }
 },
 "nbformat": 4,
 "nbformat_minor": 2
}
