{
 "cells": [
  {
   "cell_type": "code",
   "execution_count": 9,
   "metadata": {},
   "outputs": [
    {
     "name": "stdout",
     "output_type": "stream",
     "text": [
      "Requirement already satisfied: fiftyone in c:\\users\\altha\\appdata\\local\\programs\\python\\python310\\lib\\site-packages (1.3.2)\n",
      "Requirement already satisfied: ultralytics in c:\\users\\altha\\appdata\\local\\programs\\python\\python310\\lib\\site-packages (8.3.91)\n",
      "Requirement already satisfied: aiofiles in c:\\users\\altha\\appdata\\local\\programs\\python\\python310\\lib\\site-packages (from fiftyone) (24.1.0)\n",
      "Requirement already satisfied: argcomplete in c:\\users\\altha\\appdata\\local\\programs\\python\\python310\\lib\\site-packages (from fiftyone) (3.6.0)\n",
      "Requirement already satisfied: beautifulsoup4 in c:\\users\\altha\\appdata\\local\\programs\\python\\python310\\lib\\site-packages (from fiftyone) (4.12.3)\n",
      "Requirement already satisfied: boto3 in c:\\users\\altha\\appdata\\local\\programs\\python\\python310\\lib\\site-packages (from fiftyone) (1.37.13)\n",
      "Requirement already satisfied: cachetools in c:\\users\\altha\\appdata\\local\\programs\\python\\python310\\lib\\site-packages (from fiftyone) (5.5.2)\n",
      "Requirement already satisfied: dacite<1.8.0,>=1.6.0 in c:\\users\\altha\\appdata\\local\\programs\\python\\python310\\lib\\site-packages (from fiftyone) (1.7.0)\n",
      "Requirement already satisfied: Deprecated in c:\\users\\altha\\appdata\\local\\programs\\python\\python310\\lib\\site-packages (from fiftyone) (1.2.18)\n",
      "Requirement already satisfied: ftfy in c:\\users\\altha\\appdata\\local\\programs\\python\\python310\\lib\\site-packages (from fiftyone) (6.3.1)\n",
      "Requirement already satisfied: humanize in c:\\users\\altha\\appdata\\local\\programs\\python\\python310\\lib\\site-packages (from fiftyone) (4.12.1)\n",
      "Requirement already satisfied: hypercorn>=0.13.2 in c:\\users\\altha\\appdata\\local\\programs\\python\\python310\\lib\\site-packages (from fiftyone) (0.17.3)\n",
      "Requirement already satisfied: Jinja2>=3 in c:\\users\\altha\\appdata\\local\\programs\\python\\python310\\lib\\site-packages (from fiftyone) (3.1.5)\n",
      "Requirement already satisfied: kaleido!=0.2.1.post1 in c:\\users\\altha\\appdata\\local\\programs\\python\\python310\\lib\\site-packages (from fiftyone) (0.2.1)\n",
      "Requirement already satisfied: matplotlib in c:\\users\\altha\\appdata\\local\\programs\\python\\python310\\lib\\site-packages (from fiftyone) (3.10.0)\n",
      "Requirement already satisfied: mongoengine~=0.29.1 in c:\\users\\altha\\appdata\\local\\programs\\python\\python310\\lib\\site-packages (from fiftyone) (0.29.1)\n",
      "Requirement already satisfied: motor~=3.6.0 in c:\\users\\altha\\appdata\\local\\programs\\python\\python310\\lib\\site-packages (from fiftyone) (3.6.1)\n",
      "Requirement already satisfied: numpy in c:\\users\\altha\\appdata\\local\\programs\\python\\python310\\lib\\site-packages (from fiftyone) (2.1.1)\n",
      "Requirement already satisfied: packaging in c:\\users\\altha\\appdata\\local\\programs\\python\\python310\\lib\\site-packages (from fiftyone) (24.2)\n",
      "Requirement already satisfied: pandas in c:\\users\\altha\\appdata\\local\\programs\\python\\python310\\lib\\site-packages (from fiftyone) (2.2.3)\n",
      "Requirement already satisfied: Pillow>=6.2 in c:\\users\\altha\\appdata\\local\\programs\\python\\python310\\lib\\site-packages (from fiftyone) (11.1.0)\n",
      "Requirement already satisfied: plotly>=4.14 in c:\\users\\altha\\appdata\\local\\programs\\python\\python310\\lib\\site-packages (from fiftyone) (6.0.0)\n",
      "Requirement already satisfied: pprintpp in c:\\users\\altha\\appdata\\local\\programs\\python\\python310\\lib\\site-packages (from fiftyone) (0.4.0)\n",
      "Requirement already satisfied: psutil in c:\\users\\altha\\appdata\\local\\programs\\python\\python310\\lib\\site-packages (from fiftyone) (7.0.0)\n",
      "Requirement already satisfied: pymongo~=4.9.2 in c:\\users\\altha\\appdata\\local\\programs\\python\\python310\\lib\\site-packages (from fiftyone) (4.9.2)\n",
      "Requirement already satisfied: pytz in c:\\users\\altha\\appdata\\local\\programs\\python\\python310\\lib\\site-packages (from fiftyone) (2025.1)\n",
      "Requirement already satisfied: PyYAML in c:\\users\\altha\\appdata\\local\\programs\\python\\python310\\lib\\site-packages (from fiftyone) (6.0.2)\n",
      "Requirement already satisfied: regex in c:\\users\\altha\\appdata\\local\\programs\\python\\python310\\lib\\site-packages (from fiftyone) (2024.11.6)\n",
      "Requirement already satisfied: retrying in c:\\users\\altha\\appdata\\local\\programs\\python\\python310\\lib\\site-packages (from fiftyone) (1.3.4)\n",
      "Requirement already satisfied: rtree in c:\\users\\altha\\appdata\\local\\programs\\python\\python310\\lib\\site-packages (from fiftyone) (1.4.0)\n",
      "Requirement already satisfied: scikit-learn in c:\\users\\altha\\appdata\\local\\programs\\python\\python310\\lib\\site-packages (from fiftyone) (1.6.1)\n",
      "Requirement already satisfied: scikit-image in c:\\users\\altha\\appdata\\local\\programs\\python\\python310\\lib\\site-packages (from fiftyone) (0.25.2)\n",
      "Requirement already satisfied: scipy in c:\\users\\altha\\appdata\\local\\programs\\python\\python310\\lib\\site-packages (from fiftyone) (1.15.2)\n",
      "Requirement already satisfied: setuptools in c:\\users\\altha\\appdata\\local\\programs\\python\\python310\\lib\\site-packages (from fiftyone) (76.0.0)\n",
      "Requirement already satisfied: sseclient-py<2,>=1.7.2 in c:\\users\\altha\\appdata\\local\\programs\\python\\python310\\lib\\site-packages (from fiftyone) (1.8.0)\n",
      "Requirement already satisfied: sse-starlette<1,>=0.10.3 in c:\\users\\altha\\appdata\\local\\programs\\python\\python310\\lib\\site-packages (from fiftyone) (0.10.3)\n",
      "Requirement already satisfied: starlette>=0.24.0 in c:\\users\\altha\\appdata\\local\\programs\\python\\python310\\lib\\site-packages (from fiftyone) (0.46.1)\n",
      "Requirement already satisfied: strawberry-graphql in c:\\users\\altha\\appdata\\local\\programs\\python\\python310\\lib\\site-packages (from fiftyone) (0.262.5)\n",
      "Requirement already satisfied: tabulate in c:\\users\\altha\\appdata\\local\\programs\\python\\python310\\lib\\site-packages (from fiftyone) (0.9.0)\n",
      "Requirement already satisfied: xmltodict in c:\\users\\altha\\appdata\\local\\programs\\python\\python310\\lib\\site-packages (from fiftyone) (0.14.2)\n",
      "Requirement already satisfied: universal-analytics-python3<2,>=1.0.1 in c:\\users\\altha\\appdata\\local\\programs\\python\\python310\\lib\\site-packages (from fiftyone) (1.1.1)\n",
      "Requirement already satisfied: pydash in c:\\users\\altha\\appdata\\local\\programs\\python\\python310\\lib\\site-packages (from fiftyone) (8.0.5)\n",
      "Requirement already satisfied: fiftyone-brain<0.20,>=0.19.0 in c:\\users\\altha\\appdata\\local\\programs\\python\\python310\\lib\\site-packages (from fiftyone) (0.19.0)\n",
      "Requirement already satisfied: fiftyone-db<2.0,>=0.4 in c:\\users\\altha\\appdata\\local\\programs\\python\\python310\\lib\\site-packages (from fiftyone) (1.1.7)\n",
      "Requirement already satisfied: voxel51-eta<0.15,>=0.14.0 in c:\\users\\altha\\appdata\\local\\programs\\python\\python310\\lib\\site-packages (from fiftyone) (0.14.0)\n",
      "Requirement already satisfied: opencv-python-headless in c:\\users\\altha\\appdata\\local\\programs\\python\\python310\\lib\\site-packages (from fiftyone) (4.11.0.86)\n",
      "Requirement already satisfied: opencv-python>=4.6.0 in c:\\users\\altha\\appdata\\local\\programs\\python\\python310\\lib\\site-packages (from ultralytics) (4.10.0.84)\n",
      "Requirement already satisfied: requests>=2.23.0 in c:\\users\\altha\\appdata\\local\\programs\\python\\python310\\lib\\site-packages (from ultralytics) (2.32.3)\n",
      "Requirement already satisfied: torch>=1.8.0 in c:\\users\\altha\\appdata\\local\\programs\\python\\python310\\lib\\site-packages (from ultralytics) (2.5.1+cu121)\n",
      "Requirement already satisfied: torchvision>=0.9.0 in c:\\users\\altha\\appdata\\local\\programs\\python\\python310\\lib\\site-packages (from ultralytics) (0.20.1+cu121)\n",
      "Requirement already satisfied: tqdm>=4.64.0 in c:\\users\\altha\\appdata\\local\\programs\\python\\python310\\lib\\site-packages (from ultralytics) (4.67.1)\n",
      "Requirement already satisfied: py-cpuinfo in c:\\users\\altha\\appdata\\local\\programs\\python\\python310\\lib\\site-packages (from ultralytics) (9.0.0)\n",
      "Requirement already satisfied: seaborn>=0.11.0 in c:\\users\\altha\\appdata\\local\\programs\\python\\python310\\lib\\site-packages (from ultralytics) (0.13.2)\n",
      "Requirement already satisfied: ultralytics-thop>=2.0.0 in c:\\users\\altha\\appdata\\local\\programs\\python\\python310\\lib\\site-packages (from ultralytics) (2.0.14)\n",
      "Requirement already satisfied: exceptiongroup>=1.1.0 in c:\\users\\altha\\appdata\\local\\programs\\python\\python310\\lib\\site-packages (from hypercorn>=0.13.2->fiftyone) (1.2.2)\n",
      "Requirement already satisfied: h11 in c:\\users\\altha\\appdata\\local\\programs\\python\\python310\\lib\\site-packages (from hypercorn>=0.13.2->fiftyone) (0.14.0)\n",
      "Requirement already satisfied: h2>=3.1.0 in c:\\users\\altha\\appdata\\local\\programs\\python\\python310\\lib\\site-packages (from hypercorn>=0.13.2->fiftyone) (4.2.0)\n",
      "Requirement already satisfied: priority in c:\\users\\altha\\appdata\\local\\programs\\python\\python310\\lib\\site-packages (from hypercorn>=0.13.2->fiftyone) (2.0.0)\n",
      "Requirement already satisfied: taskgroup in c:\\users\\altha\\appdata\\local\\programs\\python\\python310\\lib\\site-packages (from hypercorn>=0.13.2->fiftyone) (0.2.2)\n",
      "Requirement already satisfied: tomli in c:\\users\\altha\\appdata\\local\\programs\\python\\python310\\lib\\site-packages (from hypercorn>=0.13.2->fiftyone) (2.2.1)\n",
      "Requirement already satisfied: typing_extensions in c:\\users\\altha\\appdata\\local\\programs\\python\\python310\\lib\\site-packages (from hypercorn>=0.13.2->fiftyone) (4.12.2)\n",
      "Requirement already satisfied: wsproto>=0.14.0 in c:\\users\\altha\\appdata\\local\\programs\\python\\python310\\lib\\site-packages (from hypercorn>=0.13.2->fiftyone) (1.2.0)\n",
      "Requirement already satisfied: MarkupSafe>=2.0 in c:\\users\\altha\\appdata\\local\\programs\\python\\python310\\lib\\site-packages (from Jinja2>=3->fiftyone) (3.0.2)\n",
      "Requirement already satisfied: contourpy>=1.0.1 in c:\\users\\altha\\appdata\\local\\programs\\python\\python310\\lib\\site-packages (from matplotlib->fiftyone) (1.3.1)\n",
      "Requirement already satisfied: cycler>=0.10 in c:\\users\\altha\\appdata\\local\\programs\\python\\python310\\lib\\site-packages (from matplotlib->fiftyone) (0.12.1)\n",
      "Requirement already satisfied: fonttools>=4.22.0 in c:\\users\\altha\\appdata\\local\\programs\\python\\python310\\lib\\site-packages (from matplotlib->fiftyone) (4.56.0)\n",
      "Requirement already satisfied: kiwisolver>=1.3.1 in c:\\users\\altha\\appdata\\local\\programs\\python\\python310\\lib\\site-packages (from matplotlib->fiftyone) (1.4.8)\n",
      "Requirement already satisfied: pyparsing>=2.3.1 in c:\\users\\altha\\appdata\\local\\programs\\python\\python310\\lib\\site-packages (from matplotlib->fiftyone) (3.2.1)\n",
      "Requirement already satisfied: python-dateutil>=2.7 in c:\\users\\altha\\appdata\\local\\programs\\python\\python310\\lib\\site-packages (from matplotlib->fiftyone) (2.9.0.post0)\n",
      "Requirement already satisfied: tzdata>=2022.7 in c:\\users\\altha\\appdata\\local\\programs\\python\\python310\\lib\\site-packages (from pandas->fiftyone) (2025.1)\n",
      "Requirement already satisfied: narwhals>=1.15.1 in c:\\users\\altha\\appdata\\local\\programs\\python\\python310\\lib\\site-packages (from plotly>=4.14->fiftyone) (1.27.1)\n",
      "Requirement already satisfied: dnspython<3.0.0,>=1.16.0 in c:\\users\\altha\\appdata\\local\\programs\\python\\python310\\lib\\site-packages (from pymongo~=4.9.2->fiftyone) (2.7.0)\n",
      "Requirement already satisfied: charset-normalizer<4,>=2 in c:\\users\\altha\\appdata\\local\\programs\\python\\python310\\lib\\site-packages (from requests>=2.23.0->ultralytics) (3.4.1)\n",
      "Requirement already satisfied: idna<4,>=2.5 in c:\\users\\altha\\appdata\\local\\programs\\python\\python310\\lib\\site-packages (from requests>=2.23.0->ultralytics) (3.10)\n",
      "Requirement already satisfied: urllib3<3,>=1.21.1 in c:\\users\\altha\\appdata\\local\\programs\\python\\python310\\lib\\site-packages (from requests>=2.23.0->ultralytics) (2.3.0)\n",
      "Requirement already satisfied: certifi>=2017.4.17 in c:\\users\\altha\\appdata\\local\\programs\\python\\python310\\lib\\site-packages (from requests>=2.23.0->ultralytics) (2025.1.31)\n",
      "Requirement already satisfied: anyio<5,>=3.6.2 in c:\\users\\altha\\appdata\\local\\programs\\python\\python310\\lib\\site-packages (from starlette>=0.24.0->fiftyone) (4.4.0)\n",
      "Requirement already satisfied: filelock in c:\\users\\altha\\appdata\\local\\programs\\python\\python310\\lib\\site-packages (from torch>=1.8.0->ultralytics) (3.17.0)\n",
      "Requirement already satisfied: networkx in c:\\users\\altha\\appdata\\local\\programs\\python\\python310\\lib\\site-packages (from torch>=1.8.0->ultralytics) (3.4.2)\n",
      "Requirement already satisfied: fsspec in c:\\users\\altha\\appdata\\local\\programs\\python\\python310\\lib\\site-packages (from torch>=1.8.0->ultralytics) (2024.12.0)\n",
      "Requirement already satisfied: sympy==1.13.1 in c:\\users\\altha\\appdata\\local\\programs\\python\\python310\\lib\\site-packages (from torch>=1.8.0->ultralytics) (1.13.1)\n",
      "Requirement already satisfied: mpmath<1.4,>=1.1.0 in c:\\users\\altha\\appdata\\local\\programs\\python\\python310\\lib\\site-packages (from sympy==1.13.1->torch>=1.8.0->ultralytics) (1.3.0)\n",
      "Requirement already satisfied: colorama in c:\\users\\altha\\appdata\\local\\programs\\python\\python310\\lib\\site-packages (from tqdm>=4.64.0->ultralytics) (0.4.6)\n",
      "Requirement already satisfied: httpx>=0.10.0 in c:\\users\\altha\\appdata\\local\\programs\\python\\python310\\lib\\site-packages (from universal-analytics-python3<2,>=1.0.1->fiftyone) (0.27.0)\n",
      "Requirement already satisfied: dill in c:\\users\\altha\\appdata\\local\\programs\\python\\python310\\lib\\site-packages (from voxel51-eta<0.15,>=0.14.0->fiftyone) (0.3.8)\n",
      "Requirement already satisfied: future in c:\\users\\altha\\appdata\\local\\programs\\python\\python310\\lib\\site-packages (from voxel51-eta<0.15,>=0.14.0->fiftyone) (1.0.0)\n",
      "Requirement already satisfied: glob2 in c:\\users\\altha\\appdata\\local\\programs\\python\\python310\\lib\\site-packages (from voxel51-eta<0.15,>=0.14.0->fiftyone) (0.7)\n",
      "Requirement already satisfied: jsonlines in c:\\users\\altha\\appdata\\local\\programs\\python\\python310\\lib\\site-packages (from voxel51-eta<0.15,>=0.14.0->fiftyone) (4.0.0)\n",
      "Requirement already satisfied: py7zr in c:\\users\\altha\\appdata\\local\\programs\\python\\python310\\lib\\site-packages (from voxel51-eta<0.15,>=0.14.0->fiftyone) (0.22.0)\n",
      "Requirement already satisfied: rarfile in c:\\users\\altha\\appdata\\local\\programs\\python\\python310\\lib\\site-packages (from voxel51-eta<0.15,>=0.14.0->fiftyone) (4.2)\n",
      "Requirement already satisfied: six in c:\\users\\altha\\appdata\\local\\programs\\python\\python310\\lib\\site-packages (from voxel51-eta<0.15,>=0.14.0->fiftyone) (1.17.0)\n",
      "Requirement already satisfied: sortedcontainers in c:\\users\\altha\\appdata\\local\\programs\\python\\python310\\lib\\site-packages (from voxel51-eta<0.15,>=0.14.0->fiftyone) (2.4.0)\n",
      "Requirement already satisfied: tzlocal in c:\\users\\altha\\appdata\\local\\programs\\python\\python310\\lib\\site-packages (from voxel51-eta<0.15,>=0.14.0->fiftyone) (5.3.1)\n",
      "Requirement already satisfied: soupsieve>1.2 in c:\\users\\altha\\appdata\\local\\programs\\python\\python310\\lib\\site-packages (from beautifulsoup4->fiftyone) (2.5)\n",
      "Requirement already satisfied: botocore<1.38.0,>=1.37.13 in c:\\users\\altha\\appdata\\local\\programs\\python\\python310\\lib\\site-packages (from boto3->fiftyone) (1.37.13)\n",
      "Requirement already satisfied: jmespath<2.0.0,>=0.7.1 in c:\\users\\altha\\appdata\\local\\programs\\python\\python310\\lib\\site-packages (from boto3->fiftyone) (1.0.1)\n",
      "Requirement already satisfied: s3transfer<0.12.0,>=0.11.0 in c:\\users\\altha\\appdata\\local\\programs\\python\\python310\\lib\\site-packages (from boto3->fiftyone) (0.11.4)\n",
      "Requirement already satisfied: wrapt<2,>=1.10 in c:\\users\\altha\\appdata\\local\\programs\\python\\python310\\lib\\site-packages (from Deprecated->fiftyone) (1.16.0)\n",
      "Requirement already satisfied: wcwidth in c:\\users\\altha\\appdata\\roaming\\python\\python310\\site-packages (from ftfy->fiftyone) (0.2.13)\n",
      "Requirement already satisfied: imageio!=2.35.0,>=2.33 in c:\\users\\altha\\appdata\\local\\programs\\python\\python310\\lib\\site-packages (from scikit-image->fiftyone) (2.37.0)\n",
      "Requirement already satisfied: tifffile>=2022.8.12 in c:\\users\\altha\\appdata\\local\\programs\\python\\python310\\lib\\site-packages (from scikit-image->fiftyone) (2025.3.13)\n",
      "Requirement already satisfied: lazy-loader>=0.4 in c:\\users\\altha\\appdata\\local\\programs\\python\\python310\\lib\\site-packages (from scikit-image->fiftyone) (0.4)\n",
      "Requirement already satisfied: joblib>=1.2.0 in c:\\users\\altha\\appdata\\local\\programs\\python\\python310\\lib\\site-packages (from scikit-learn->fiftyone) (1.4.2)\n",
      "Requirement already satisfied: threadpoolctl>=3.1.0 in c:\\users\\altha\\appdata\\local\\programs\\python\\python310\\lib\\site-packages (from scikit-learn->fiftyone) (3.5.0)\n",
      "Requirement already satisfied: graphql-core<3.4.0,>=3.2.0 in c:\\users\\altha\\appdata\\local\\programs\\python\\python310\\lib\\site-packages (from strawberry-graphql->fiftyone) (3.2.6)\n",
      "Requirement already satisfied: sniffio>=1.1 in c:\\users\\altha\\appdata\\local\\programs\\python\\python310\\lib\\site-packages (from anyio<5,>=3.6.2->starlette>=0.24.0->fiftyone) (1.3.1)\n",
      "Requirement already satisfied: hyperframe<7,>=6.1 in c:\\users\\altha\\appdata\\local\\programs\\python\\python310\\lib\\site-packages (from h2>=3.1.0->hypercorn>=0.13.2->fiftyone) (6.1.0)\n",
      "Requirement already satisfied: hpack<5,>=4.1 in c:\\users\\altha\\appdata\\local\\programs\\python\\python310\\lib\\site-packages (from h2>=3.1.0->hypercorn>=0.13.2->fiftyone) (4.1.0)\n",
      "Requirement already satisfied: httpcore==1.* in c:\\users\\altha\\appdata\\local\\programs\\python\\python310\\lib\\site-packages (from httpx>=0.10.0->universal-analytics-python3<2,>=1.0.1->fiftyone) (1.0.5)\n",
      "Requirement already satisfied: attrs>=19.2.0 in c:\\users\\altha\\appdata\\local\\programs\\python\\python310\\lib\\site-packages (from jsonlines->voxel51-eta<0.15,>=0.14.0->fiftyone) (25.1.0)\n",
      "Requirement already satisfied: texttable in c:\\users\\altha\\appdata\\local\\programs\\python\\python310\\lib\\site-packages (from py7zr->voxel51-eta<0.15,>=0.14.0->fiftyone) (1.7.0)\n",
      "Requirement already satisfied: pycryptodomex>=3.16.0 in c:\\users\\altha\\appdata\\local\\programs\\python\\python310\\lib\\site-packages (from py7zr->voxel51-eta<0.15,>=0.14.0->fiftyone) (3.21.0)\n",
      "Requirement already satisfied: pyzstd>=0.15.9 in c:\\users\\altha\\appdata\\local\\programs\\python\\python310\\lib\\site-packages (from py7zr->voxel51-eta<0.15,>=0.14.0->fiftyone) (0.16.2)\n",
      "Requirement already satisfied: pyppmd<1.2.0,>=1.1.0 in c:\\users\\altha\\appdata\\local\\programs\\python\\python310\\lib\\site-packages (from py7zr->voxel51-eta<0.15,>=0.14.0->fiftyone) (1.1.1)\n",
      "Requirement already satisfied: pybcj<1.1.0,>=1.0.0 in c:\\users\\altha\\appdata\\local\\programs\\python\\python310\\lib\\site-packages (from py7zr->voxel51-eta<0.15,>=0.14.0->fiftyone) (1.0.3)\n",
      "Requirement already satisfied: multivolumefile>=0.2.3 in c:\\users\\altha\\appdata\\local\\programs\\python\\python310\\lib\\site-packages (from py7zr->voxel51-eta<0.15,>=0.14.0->fiftyone) (0.2.3)\n",
      "Requirement already satisfied: inflate64<1.1.0,>=1.0.0 in c:\\users\\altha\\appdata\\local\\programs\\python\\python310\\lib\\site-packages (from py7zr->voxel51-eta<0.15,>=0.14.0->fiftyone) (1.0.1)\n",
      "Requirement already satisfied: brotli>=1.1.0 in c:\\users\\altha\\appdata\\local\\programs\\python\\python310\\lib\\site-packages (from py7zr->voxel51-eta<0.15,>=0.14.0->fiftyone) (1.1.0)\n"
     ]
    }
   ],
   "source": [
    "!pip install fiftyone ultralytics"
   ]
  },
  {
   "cell_type": "code",
   "execution_count": 10,
   "metadata": {},
   "outputs": [],
   "source": [
    "import fiftyone as fo\n",
    "import fiftyone.zoo as foz\n",
    "from fiftyone import ViewField as F"
   ]
  },
  {
   "cell_type": "code",
   "execution_count": 11,
   "metadata": {},
   "outputs": [],
   "source": [
    "import numpy as np\n",
    "import os\n",
    "from tqdm import tqdm"
   ]
  },
  {
   "cell_type": "code",
   "execution_count": 12,
   "metadata": {},
   "outputs": [],
   "source": [
    "from ultralytics import YOLO\n",
    "\n",
    "detection_model = YOLO(\"yolov8n.pt\")\n",
    "seg_model = YOLO(\"yolov8n-seg.pt\")"
   ]
  },
  {
   "cell_type": "code",
   "execution_count": 13,
   "metadata": {},
   "outputs": [
    {
     "name": "stdout",
     "output_type": "stream",
     "text": [
      "\n",
      "Found https://ultralytics.com/images/bus.jpg locally at bus.jpg\n",
      "image 1/1 d:\\Genta\\ML_practice\\voxel\\bus.jpg: 640x480 4 persons, 1 bus, 1 stop sign, 28.7ms\n",
      "Speed: 3.2ms preprocess, 28.7ms inference, 2.5ms postprocess per image at shape (1, 3, 640, 480)\n"
     ]
    }
   ],
   "source": [
    "results = detection_model(\"https://ultralytics.com/images/bus.jpg\")"
   ]
  },
  {
   "cell_type": "code",
   "execution_count": 30,
   "metadata": {},
   "outputs": [
    {
     "name": "stdout",
     "output_type": "stream",
     "text": [
      "Downloading from https://www.kaggle.com/api/v1/datasets/download/farzadnekouei/pothole-image-segmentation-dataset?dataset_version_number=2...\n"
     ]
    },
    {
     "name": "stderr",
     "output_type": "stream",
     "text": [
      "100%|██████████| 59.3M/59.3M [01:13<00:00, 840kB/s] "
     ]
    },
    {
     "name": "stdout",
     "output_type": "stream",
     "text": [
      "Extracting files...\n"
     ]
    },
    {
     "name": "stderr",
     "output_type": "stream",
     "text": [
      "\n"
     ]
    },
    {
     "name": "stdout",
     "output_type": "stream",
     "text": [
      "Path to dataset files: C:\\Users\\altha\\.cache\\kagglehub\\datasets\\farzadnekouei\\pothole-image-segmentation-dataset\\versions\\2\n"
     ]
    },
    {
     "ename": "ValueError",
     "evalue": "Dataset name 'potholes_detection' is not available",
     "output_type": "error",
     "traceback": [
      "\u001b[1;31m---------------------------------------------------------------------------\u001b[0m",
      "\u001b[1;31mValueError\u001b[0m                                Traceback (most recent call last)",
      "\u001b[1;32m~\\AppData\\Local\\Temp\\ipykernel_35380\\2753569096.py\u001b[0m in \u001b[0;36m?\u001b[1;34m()\u001b[0m\n\u001b[0;32m     10\u001b[0m \u001b[1;33m\u001b[0m\u001b[0m\n\u001b[0;32m     11\u001b[0m \u001b[0mprint\u001b[0m\u001b[1;33m(\u001b[0m\u001b[1;34m\"Path to dataset files:\"\u001b[0m\u001b[1;33m,\u001b[0m \u001b[0mpath\u001b[0m\u001b[1;33m)\u001b[0m\u001b[1;33m\u001b[0m\u001b[1;33m\u001b[0m\u001b[0m\n\u001b[0;32m     12\u001b[0m \u001b[1;33m\u001b[0m\u001b[0m\n\u001b[0;32m     13\u001b[0m \u001b[1;31m# Create a new FiftyOne dataset\u001b[0m\u001b[1;33m\u001b[0m\u001b[1;33m\u001b[0m\u001b[0m\n\u001b[1;32m---> 14\u001b[1;33m \u001b[0mdataset\u001b[0m \u001b[1;33m=\u001b[0m \u001b[0mfo\u001b[0m\u001b[1;33m.\u001b[0m\u001b[0mDataset\u001b[0m\u001b[1;33m(\u001b[0m\u001b[1;34m\"potholes_detection\"\u001b[0m\u001b[1;33m)\u001b[0m\u001b[1;33m\u001b[0m\u001b[1;33m\u001b[0m\u001b[0m\n\u001b[0m\u001b[0;32m     15\u001b[0m \u001b[1;33m\u001b[0m\u001b[0m\n\u001b[0;32m     16\u001b[0m \u001b[1;31m# Find image files in the downloaded dataset\u001b[0m\u001b[1;33m\u001b[0m\u001b[1;33m\u001b[0m\u001b[0m\n\u001b[0;32m     17\u001b[0m \u001b[0mimage_dir\u001b[0m \u001b[1;33m=\u001b[0m \u001b[0mPath\u001b[0m\u001b[1;33m(\u001b[0m\u001b[0mpath\u001b[0m\u001b[1;33m)\u001b[0m\u001b[1;33m\u001b[0m\u001b[1;33m\u001b[0m\u001b[0m\n",
      "\u001b[1;32mc:\\Users\\altha\\AppData\\Local\\Programs\\Python\\Python310\\lib\\site-packages\\fiftyone\\core\\singletons.py\u001b[0m in \u001b[0;36m?\u001b[1;34m(cls, name, _create, *args, **kwargs)\u001b[0m\n\u001b[0;32m     33\u001b[0m             \u001b[1;32mor\u001b[0m \u001b[0minstance\u001b[0m\u001b[1;33m.\u001b[0m\u001b[0mdeleted\u001b[0m\u001b[1;33m\u001b[0m\u001b[1;33m\u001b[0m\u001b[0m\n\u001b[0;32m     34\u001b[0m             \u001b[1;32mor\u001b[0m \u001b[0minstance\u001b[0m\u001b[1;33m.\u001b[0m\u001b[0mname\u001b[0m \u001b[1;32mis\u001b[0m \u001b[1;32mNone\u001b[0m\u001b[1;33m\u001b[0m\u001b[1;33m\u001b[0m\u001b[0m\n\u001b[0;32m     35\u001b[0m         ):\n\u001b[0;32m     36\u001b[0m             \u001b[0minstance\u001b[0m \u001b[1;33m=\u001b[0m \u001b[0mcls\u001b[0m\u001b[1;33m.\u001b[0m\u001b[0m__new__\u001b[0m\u001b[1;33m(\u001b[0m\u001b[0mcls\u001b[0m\u001b[1;33m)\u001b[0m\u001b[1;33m\u001b[0m\u001b[1;33m\u001b[0m\u001b[0m\n\u001b[1;32m---> 37\u001b[1;33m             \u001b[0minstance\u001b[0m\u001b[1;33m.\u001b[0m\u001b[0m__init__\u001b[0m\u001b[1;33m(\u001b[0m\u001b[0mname\u001b[0m\u001b[1;33m=\u001b[0m\u001b[0mname\u001b[0m\u001b[1;33m,\u001b[0m \u001b[0m_create\u001b[0m\u001b[1;33m=\u001b[0m\u001b[0m_create\u001b[0m\u001b[1;33m,\u001b[0m \u001b[1;33m*\u001b[0m\u001b[0margs\u001b[0m\u001b[1;33m,\u001b[0m \u001b[1;33m**\u001b[0m\u001b[0mkwargs\u001b[0m\u001b[1;33m)\u001b[0m\u001b[1;33m\u001b[0m\u001b[1;33m\u001b[0m\u001b[0m\n\u001b[0m\u001b[0;32m     38\u001b[0m             \u001b[0mname\u001b[0m \u001b[1;33m=\u001b[0m \u001b[0minstance\u001b[0m\u001b[1;33m.\u001b[0m\u001b[0mname\u001b[0m  \u001b[1;31m# `__init__` may have changed `name`\u001b[0m\u001b[1;33m\u001b[0m\u001b[1;33m\u001b[0m\u001b[0m\n\u001b[0;32m     39\u001b[0m         \u001b[1;32melse\u001b[0m\u001b[1;33m:\u001b[0m\u001b[1;33m\u001b[0m\u001b[1;33m\u001b[0m\u001b[0m\n\u001b[0;32m     40\u001b[0m             \u001b[1;32mtry\u001b[0m\u001b[1;33m:\u001b[0m\u001b[1;33m\u001b[0m\u001b[1;33m\u001b[0m\u001b[0m\n",
      "\u001b[1;32mc:\\Users\\altha\\AppData\\Local\\Programs\\Python\\Python310\\lib\\site-packages\\fiftyone\\core\\dataset.py\u001b[0m in \u001b[0;36m?\u001b[1;34m(self, name, persistent, overwrite, _create, _virtual, **kwargs)\u001b[0m\n\u001b[0;32m    323\u001b[0m         \u001b[1;32mif\u001b[0m \u001b[0moverwrite\u001b[0m \u001b[1;32mand\u001b[0m \u001b[0mdataset_exists\u001b[0m\u001b[1;33m(\u001b[0m\u001b[0mname\u001b[0m\u001b[1;33m)\u001b[0m\u001b[1;33m:\u001b[0m\u001b[1;33m\u001b[0m\u001b[1;33m\u001b[0m\u001b[0m\n\u001b[0;32m    324\u001b[0m             \u001b[0mdelete_dataset\u001b[0m\u001b[1;33m(\u001b[0m\u001b[0mname\u001b[0m\u001b[1;33m)\u001b[0m\u001b[1;33m\u001b[0m\u001b[1;33m\u001b[0m\u001b[0m\n\u001b[0;32m    325\u001b[0m \u001b[1;33m\u001b[0m\u001b[0m\n\u001b[0;32m    326\u001b[0m         \u001b[1;32mif\u001b[0m \u001b[0m_create\u001b[0m\u001b[1;33m:\u001b[0m\u001b[1;33m\u001b[0m\u001b[1;33m\u001b[0m\u001b[0m\n\u001b[1;32m--> 327\u001b[1;33m             doc, sample_doc_cls, frame_doc_cls = _create_dataset(\n\u001b[0m\u001b[0;32m    328\u001b[0m                 \u001b[0mself\u001b[0m\u001b[1;33m,\u001b[0m \u001b[0mname\u001b[0m\u001b[1;33m,\u001b[0m \u001b[0mpersistent\u001b[0m\u001b[1;33m=\u001b[0m\u001b[0mpersistent\u001b[0m\u001b[1;33m,\u001b[0m \u001b[1;33m**\u001b[0m\u001b[0mkwargs\u001b[0m\u001b[1;33m\u001b[0m\u001b[1;33m\u001b[0m\u001b[0m\n\u001b[0;32m    329\u001b[0m             )\n\u001b[0;32m    330\u001b[0m         \u001b[1;32melse\u001b[0m\u001b[1;33m:\u001b[0m\u001b[1;33m\u001b[0m\u001b[1;33m\u001b[0m\u001b[0m\n",
      "\u001b[1;32mc:\\Users\\altha\\AppData\\Local\\Programs\\Python\\Python310\\lib\\site-packages\\fiftyone\\core\\dataset.py\u001b[0m in \u001b[0;36m?\u001b[1;34m(obj, name, persistent, _patches, _frames, _clips, _src_collection)\u001b[0m\n\u001b[0;32m   8113\u001b[0m     \u001b[0m_frames\u001b[0m\u001b[1;33m=\u001b[0m\u001b[1;32mFalse\u001b[0m\u001b[1;33m,\u001b[0m\u001b[1;33m\u001b[0m\u001b[1;33m\u001b[0m\u001b[0m\n\u001b[0;32m   8114\u001b[0m     \u001b[0m_clips\u001b[0m\u001b[1;33m=\u001b[0m\u001b[1;32mFalse\u001b[0m\u001b[1;33m,\u001b[0m\u001b[1;33m\u001b[0m\u001b[1;33m\u001b[0m\u001b[0m\n\u001b[0;32m   8115\u001b[0m     \u001b[0m_src_collection\u001b[0m\u001b[1;33m=\u001b[0m\u001b[1;32mNone\u001b[0m\u001b[1;33m,\u001b[0m\u001b[1;33m\u001b[0m\u001b[1;33m\u001b[0m\u001b[0m\n\u001b[0;32m   8116\u001b[0m ):\n\u001b[1;32m-> 8117\u001b[1;33m     \u001b[0mslug\u001b[0m \u001b[1;33m=\u001b[0m \u001b[0m_validate_dataset_name\u001b[0m\u001b[1;33m(\u001b[0m\u001b[0mname\u001b[0m\u001b[1;33m)\u001b[0m\u001b[1;33m\u001b[0m\u001b[1;33m\u001b[0m\u001b[0m\n\u001b[0m\u001b[0;32m   8118\u001b[0m \u001b[1;33m\u001b[0m\u001b[0m\n\u001b[0;32m   8119\u001b[0m     \u001b[0m_id\u001b[0m \u001b[1;33m=\u001b[0m \u001b[0mObjectId\u001b[0m\u001b[1;33m(\u001b[0m\u001b[1;33m)\u001b[0m\u001b[1;33m\u001b[0m\u001b[1;33m\u001b[0m\u001b[0m\n\u001b[0;32m   8120\u001b[0m     \u001b[0mnow\u001b[0m \u001b[1;33m=\u001b[0m \u001b[0mdatetime\u001b[0m\u001b[1;33m.\u001b[0m\u001b[0mutcnow\u001b[0m\u001b[1;33m(\u001b[0m\u001b[1;33m)\u001b[0m\u001b[1;33m\u001b[0m\u001b[1;33m\u001b[0m\u001b[0m\n",
      "\u001b[1;32mc:\\Users\\altha\\AppData\\Local\\Programs\\Python\\Python310\\lib\\site-packages\\fiftyone\\core\\dataset.py\u001b[0m in \u001b[0;36m?\u001b[1;34m(name, skip)\u001b[0m\n\u001b[0;32m    130\u001b[0m     )\n\u001b[0;32m    131\u001b[0m     \u001b[1;32mif\u001b[0m \u001b[0mclashing_name_doc\u001b[0m \u001b[1;32mis\u001b[0m \u001b[1;32mnot\u001b[0m \u001b[1;32mNone\u001b[0m\u001b[1;33m:\u001b[0m\u001b[1;33m\u001b[0m\u001b[1;33m\u001b[0m\u001b[0m\n\u001b[0;32m    132\u001b[0m         \u001b[0mclashing_name\u001b[0m \u001b[1;33m=\u001b[0m \u001b[0mclashing_name_doc\u001b[0m\u001b[1;33m[\u001b[0m\u001b[1;34m\"name\"\u001b[0m\u001b[1;33m]\u001b[0m\u001b[1;33m\u001b[0m\u001b[1;33m\u001b[0m\u001b[0m\n\u001b[0;32m    133\u001b[0m         \u001b[1;32mif\u001b[0m \u001b[0mclashing_name\u001b[0m \u001b[1;33m==\u001b[0m \u001b[0mname\u001b[0m\u001b[1;33m:\u001b[0m\u001b[1;33m\u001b[0m\u001b[1;33m\u001b[0m\u001b[0m\n\u001b[1;32m--> 134\u001b[1;33m             \u001b[1;32mraise\u001b[0m \u001b[0mValueError\u001b[0m\u001b[1;33m(\u001b[0m\u001b[1;34mf\"Dataset name '{name}' is not available\"\u001b[0m\u001b[1;33m)\u001b[0m\u001b[1;33m\u001b[0m\u001b[1;33m\u001b[0m\u001b[0m\n\u001b[0m\u001b[0;32m    135\u001b[0m         \u001b[1;32melse\u001b[0m\u001b[1;33m:\u001b[0m\u001b[1;33m\u001b[0m\u001b[1;33m\u001b[0m\u001b[0m\n\u001b[0;32m    136\u001b[0m             raise ValueError(\n\u001b[0;32m    137\u001b[0m                 \u001b[1;34mf\"Dataset name '{name}' is not available: slug '{slug}' \"\u001b[0m\u001b[1;33m\u001b[0m\u001b[1;33m\u001b[0m\u001b[0m\n",
      "\u001b[1;31mValueError\u001b[0m: Dataset name 'potholes_detection' is not available"
     ]
    }
   ],
   "source": [
    "import fiftyone as fo\n",
    "import kagglehub\n",
    "import os\n",
    "from pathlib import Path\n",
    "from ultralytics import YOLO\n",
    "\n",
    "# Download Kaggle dataset\n",
    "# Download latest version\n",
    "path = kagglehub.dataset_download(\"farzadnekouei/pothole-image-segmentation-dataset\")\n",
    "\n",
    "print(\"Path to dataset files:\", path)\n",
    "\n",
    "# Create a new FiftyOne dataset\n",
    "dataset = fo.Dataset(\"potholes_detection\")\n",
    "\n",
    "# Find image files in the downloaded dataset\n",
    "image_dir = Path(path)\n",
    "image_paths = []\n",
    "for ext in ['.jpg', '.jpeg', '.png']:\n",
    "    image_paths.extend(list(image_dir.glob(f\"**/*{ext}\")))\n",
    "\n",
    "# Add images to the dataset\n",
    "for image_path in image_paths:\n",
    "    sample = fo.Sample(filepath=str(image_path))\n",
    "    dataset.add_sample(sample)\n",
    "\n",
    "print(f\"Added {len(dataset)} images to the dataset\")\n",
    "\n",
    "# Load a YOLOv8 model\n",
    "model = YOLO(\"yolov8l.pt\")\n",
    "\n",
    "# Apply the model to the dataset\n",
    "dataset.apply_model(model, label_field=\"yolov8l\")\n",
    "\n",
    "# Launch the App to visualize the results\n",
    "session = fo.launch_app(dataset)\n",
    "\n",
    "dataset_name = dataset.name"
   ]
  },
  {
   "cell_type": "code",
   "execution_count": 24,
   "metadata": {},
   "outputs": [],
   "source": [
    "fo.delete_dataset(dataset_name)"
   ]
  }
 ],
 "metadata": {
  "kernelspec": {
   "display_name": "Python 3",
   "language": "python",
   "name": "python3"
  },
  "language_info": {
   "codemirror_mode": {
    "name": "ipython",
    "version": 3
   },
   "file_extension": ".py",
   "mimetype": "text/x-python",
   "name": "python",
   "nbconvert_exporter": "python",
   "pygments_lexer": "ipython3",
   "version": "3.10.11"
  }
 },
 "nbformat": 4,
 "nbformat_minor": 2
}
